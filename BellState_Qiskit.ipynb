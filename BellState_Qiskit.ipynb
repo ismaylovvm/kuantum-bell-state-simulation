{
  "nbformat": 4,
  "nbformat_minor": 0,
  "metadata": {
    "colab": {
      "provenance": []
    },
    "kernelspec": {
      "name": "python3",
      "display_name": "Python 3"
    },
    "language_info": {
      "name": "python"
    }
  },
  "cells": [
    {
      "cell_type": "markdown",
      "source": [
        "#Qiskit ve çizim için gerekli kütüphaneleri yükleme"
      ],
      "metadata": {
        "id": "RIX2K7rUOkcH"
      }
    },
    {
      "cell_type": "code",
      "execution_count": 28,
      "metadata": {
        "id": "6ymolT7n4L2s"
      },
      "outputs": [],
      "source": [
        "!pip install qiskit[visualization] qiskit-aer"
      ]
    },
    {
      "cell_type": "markdown",
      "source": [
        "# Adım 1: Qiskit ile kuantum devre nesnesi yaratma"
      ],
      "metadata": {
        "id": "6xnUXHPkOwCU"
      }
    },
    {
      "cell_type": "code",
      "source": [
        "from qiskit import QuantumCircuit\n",
        "\n",
        "circuit = QuantumCircuit(2,2)"
      ],
      "metadata": {
        "id": "Qom24TtjCOdP"
      },
      "execution_count": 29,
      "outputs": []
    },
    {
      "cell_type": "markdown",
      "source": [
        "### **Bu kod, 2 kübit ve 2 klasik bitten oluşan boş bir kuantum devresi oluşturur.**\n",
        "\n",
        "\n",
        "\n",
        "*   2 Kübit: Kuantum işlemlerinin (süperpozisyon, dolanıklık) yapılacağı ana   işlem birimleridir.\n",
        "*   2 Klasik Bit: Deneyin sonunda kübitler ölçüldüğünde ortaya çıkan 0 veya 1 sonucunu kaydetmek için kullanılan hafıza alanlarıdır.\n",
        "\n",
        "\n",
        "\n"
      ],
      "metadata": {
        "id": "F1gV9l09Pjis"
      }
    },
    {
      "cell_type": "markdown",
      "source": [
        "# Adım 2: İlk kübiti Hadamard kapısı ile süperpozisyona alma"
      ],
      "metadata": {
        "id": "EzwJmxttQFbM"
      }
    },
    {
      "cell_type": "code",
      "source": [
        "circuit.h(0)"
      ],
      "metadata": {
        "colab": {
          "base_uri": "https://localhost:8080/"
        },
        "id": "VvsPOonlCrsZ",
        "outputId": "f38664e7-0180-4d74-f0b1-d00a09a623c8"
      },
      "execution_count": 30,
      "outputs": [
        {
          "output_type": "execute_result",
          "data": {
            "text/plain": [
              "<qiskit.circuit.instructionset.InstructionSet at 0x7c089d7a0be0>"
            ]
          },
          "metadata": {},
          "execution_count": 30
        }
      ]
    },
    {
      "cell_type": "markdown",
      "source": [
        "### **Bu kod, 0. kübite bir Hadamard (H) kapısı uygular.**\n",
        "\n",
        "Bu işlem, başlangıçta 0 olan durgun bir kübiti, havada dönen bir madeni paraya çevirmek gibidir. Artık kübit, ölçülene kadar hem 0 hem de 1 olma potansiyelini eşit şekilde taşır. Bu belirsizlik durumuna süperpozisyon denir."
      ],
      "metadata": {
        "id": "9QCK1wReRBwF"
      }
    },
    {
      "cell_type": "markdown",
      "source": [
        "# Adım 3: Dolanıklık Yaratma (CNOT Kapısı)"
      ],
      "metadata": {
        "id": "k6ZvjQi0SM8Z"
      }
    },
    {
      "cell_type": "code",
      "source": [
        "circuit.cx(0,1)"
      ],
      "metadata": {
        "colab": {
          "base_uri": "https://localhost:8080/"
        },
        "id": "bGO7piOaDP3i",
        "outputId": "a2db11d7-f1a1-4951-8e28-eea7cdb7394e"
      },
      "execution_count": 20,
      "outputs": [
        {
          "output_type": "execute_result",
          "data": {
            "text/plain": [
              "<qiskit.circuit.instructionset.InstructionSet at 0x7c089e1ec820>"
            ]
          },
          "metadata": {},
          "execution_count": 20
        }
      ]
    },
    {
      "cell_type": "markdown",
      "source": [
        "### **Burada cx (Controlled-NOT veya CNOT) kapısı ile iki kübit arasında bir dolanıklık bağı kurarız.**\n",
        "\n",
        "\n",
        "\n",
        "*   0 (Kontrol Kübiti): Bu, bizim süperpozisyona soktuğumuz ilk kübittir.\n",
        "*   1 (Hedef Kübiti): Bu, kontrol kübitinin durumuna göre değişecek olan ikinci kübittir."
      ],
      "metadata": {
        "id": "JhVDkis5STcS"
      }
    },
    {
      "cell_type": "markdown",
      "source": [
        "# Adım 4:  Sonucu Okuma (Ölçüm):"
      ],
      "metadata": {
        "id": "i6csVnUgUxg2"
      }
    },
    {
      "cell_type": "code",
      "source": [
        "circuit.measure([0,1],[0,1])"
      ],
      "metadata": {
        "colab": {
          "base_uri": "https://localhost:8080/"
        },
        "id": "qZ7IM0dWDyxC",
        "outputId": "e2cc5057-c697-41ac-9b7b-853835637ffd"
      },
      "execution_count": 21,
      "outputs": [
        {
          "output_type": "execute_result",
          "data": {
            "text/plain": [
              "<qiskit.circuit.instructionset.InstructionSet at 0x7c089e1ec310>"
            ]
          },
          "metadata": {},
          "execution_count": 21
        }
      ]
    },
    {
      "cell_type": "markdown",
      "source": [
        "*   [0,1] (ilk parametre): Hangi kübitlerin ölçüleceğini belirtir. Burada hem 0. kübiti hem de 1. kübiti ölçüyoruz.\n",
        "*   [0,1] (ilk parametre): Hangi kübitlerin ölçüleceğini belirtir. Burada hem 0. kübiti hem de 1. kübiti ölçüyoruz.\n",
        "   \n",
        "           *   0. kübitin sonucu → 0. klasik bite yazılır.\n",
        "           *   1. kübitin sonucu → 1. klasik bite yazılır.\n",
        "\n",
        "\n",
        "\n",
        "Bu işlem, kuantum durumunu \"çökertir\". Yani, tüm belirsizlik ortadan kalkar ve kübitler ya 0 ya da 1 olarak kesin bir değer alır. Bu değerler, daha sonra analiz edeceğimiz sonuçları saklamak için klasik bitlere kaydedilir."
      ],
      "metadata": {
        "id": "_HuY7DtiU-FK"
      }
    },
    {
      "cell_type": "markdown",
      "source": [
        "# Deneyi Gerçekleştirme (Simülasyon)"
      ],
      "metadata": {
        "id": "31_bIhupajiw"
      }
    },
    {
      "cell_type": "code",
      "source": [
        "from qiskit_aer import AerSimulator\n",
        "\n",
        "simulator = AerSimulator()\n",
        "job = simulator.run(circuit, shots=1024)\n",
        "result = job.result()\n",
        "counts = result.get_counts(circuit)"
      ],
      "metadata": {
        "id": "QbAL3dYmEx8b"
      },
      "execution_count": 26,
      "outputs": []
    },
    {
      "cell_type": "markdown",
      "source": [
        "* AerSimulator() ile ideal bir kuantum bilgisayar simülatörü oluştururuz.\n",
        "\n",
        "* simulator.run(circuit, shots=1024) komutuyla devremizi bu simülatöre gönderir ve deneyi 1024 kez tekrarlamasını söyleriz.\n",
        "\n",
        "* Son olarak, result.get_counts() ile 1024 denemenin sonunda hangi sonucun (00 veya 11 gibi) kaç kez çıktığını özetleyen sayımları alırız."
      ],
      "metadata": {
        "id": "GRZdvXRdalaJ"
      }
    },
    {
      "cell_type": "markdown",
      "source": [
        "# Sonuçları Görselleştirme"
      ],
      "metadata": {
        "id": "57F_itwjbEVn"
      }
    },
    {
      "cell_type": "code",
      "source": [
        "import matplotlib.pyplot as plt\n",
        "from qiskit.visualization import plot_histogram\n",
        "\n",
        "print(\"\\nÖlçüm Sonuçları (1024 deneme):\", counts)\n",
        "\n",
        "plot_histogram(counts)"
      ],
      "metadata": {
        "colab": {
          "base_uri": "https://localhost:8080/",
          "height": 523
        },
        "id": "wxCt4-PyHLbl",
        "outputId": "b25c851d-3c4c-4661-bf15-87a4511532e6"
      },
      "execution_count": 27,
      "outputs": [
        {
          "output_type": "stream",
          "name": "stdout",
          "text": [
            "\n",
            "Ölçüm Sonuçları (1024 deneme): {'11': 517, '00': 507}\n"
          ]
        },
        {
          "output_type": "execute_result",
          "data": {
            "text/plain": [
              "<Figure size 640x480 with 1 Axes>"
            ],
            "image/png": "[encoded data removed]"
          },
          "metadata": {},
          "execution_count": 27
        }
      ]
    },
    {
      "cell_type": "code",
      "source": [],
      "metadata": {
        "id": "pyJPw4CSbHyZ"
      },
      "execution_count": null,
      "outputs": []
    }
  ]
}